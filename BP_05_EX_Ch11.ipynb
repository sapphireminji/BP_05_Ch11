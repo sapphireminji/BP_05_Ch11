{
  "nbformat": 4,
  "nbformat_minor": 0,
  "metadata": {
    "colab": {
      "provenance": [],
      "authorship_tag": "ABX9TyO3NPsGAhpP/9Q52yduv/f/",
      "include_colab_link": true
    },
    "kernelspec": {
      "name": "python3",
      "display_name": "Python 3"
    },
    "language_info": {
      "name": "python"
    }
  },
  "cells": [
    {
      "cell_type": "markdown",
      "metadata": {
        "id": "view-in-github",
        "colab_type": "text"
      },
      "source": [
        "<a href=\"https://colab.research.google.com/github/sapphireminji/BP_05_Ch11/blob/main/BP_05_EX_Ch11.ipynb\" target=\"_parent\"><img src=\"https://colab.research.google.com/assets/colab-badge.svg\" alt=\"Open In Colab\"/></a>"
      ]
    },
    {
      "cell_type": "markdown",
      "source": [
        "1."
      ],
      "metadata": {
        "id": "guaOoQsteGpA"
      }
    },
    {
      "cell_type": "code",
      "execution_count": null,
      "metadata": {
        "id": "0a-ulsWneFHb"
      },
      "outputs": [],
      "source": [
        "filename = input(\"파일 이름을 입력하세요: \").strip()\n",
        "infile = open(filename, \"r\") \n",
        "count = 0\n",
        "for line in infile:\n",
        " for ch in line:\n",
        " count += 1\n",
        "print(\"파일 안에는 총 \", count , \"개의 글자가 있습니다.\")\n",
        "infile.close() # 파일을 닫는다."
      ]
    },
    {
      "cell_type": "markdown",
      "source": [
        "2."
      ],
      "metadata": {
        "id": "Lr5mQuv7ePoZ"
      }
    },
    {
      "cell_type": "code",
      "source": [
        "infilename = input(\"파일 이름을 입력하시오: \").strip()\n",
        "infile = open(infilename, \"r\")\n",
        "file_s = infile.read() \n",
        "removed_s = input(\"삭제할 문자열을 입력하시오: \").strip()\n",
        "modified_s = file_s.replace(removed_s, \"\")\n",
        "infile.close() \n",
        "outfile = open(infilename, \"w\")\n",
        "print(modified_s, file = outfile, end = \"\") \n",
        "print(\"변경된 파일이 저장되었습니다.\") \n",
        "outfile.close()"
      ],
      "metadata": {
        "id": "oQZrqc79eQcU"
      },
      "execution_count": null,
      "outputs": []
    },
    {
      "cell_type": "markdown",
      "source": [
        "3."
      ],
      "metadata": {
        "id": "hIlJny11eWsW"
      }
    },
    {
      "cell_type": "code",
      "source": [
        "infile = open(filename, \"r\") \n",
        "for line in infile:\n",
        "...\n",
        "def countLine(line, counter):\n",
        " for ch in line:\n",
        " if ch.isalpha():\n",
        " if ch in counter:\n",
        " counter[ch] = counter[ch] + 1\n",
        " else:\n",
        " counter[ch] = 1\n",
        "fname = input(\"입력 파일 이름: \").strip()\n",
        "infile = open(fname, \"r\") \n",
        "my_dict = { } \n",
        "for line in infile:\n",
        " countLine(line, my_dict)\n",
        "print(my_dict)\n",
        "infile.close()"
      ],
      "metadata": {
        "id": "fW6MvrineXG6"
      },
      "execution_count": null,
      "outputs": []
    }
  ]
}